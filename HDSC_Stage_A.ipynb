{
  "nbformat": 4,
  "nbformat_minor": 0,
  "metadata": {
    "colab": {
      "name": "HDSC-Stage-A.ipynb",
      "provenance": [],
      "authorship_tag": "ABX9TyPlXsGfLL6UBuf2C+d/kpVF",
      "include_colab_link": true
    },
    "kernelspec": {
      "name": "python3",
      "display_name": "Python 3"
    },
    "language_info": {
      "name": "python"
    }
  },
  "cells": [
    {
      "cell_type": "markdown",
      "metadata": {
        "id": "view-in-github",
        "colab_type": "text"
      },
      "source": [
        "<a href=\"https://colab.research.google.com/github/SS-stats/HDSC-Introduction-to-Python-for-machine-learning/blob/master/HDSC_Stage_A.ipynb\" target=\"_parent\"><img src=\"https://colab.research.google.com/assets/colab-badge.svg\" alt=\"Open In Colab\"/></a>"
      ]
    },
    {
      "cell_type": "code",
      "source": [
        "from google.colab import files\n",
        "\n",
        "\n",
        "uploaded = files.upload()\n"
      ],
      "metadata": {
        "id": "VpmNjx9JC75V"
      },
      "execution_count": null,
      "outputs": []
    },
    {
      "cell_type": "code",
      "source": [
        "import pandas as pd\n",
        "import io\n",
        "\n",
        "df = pd.read_csv(io.BytesIO(uploaded['FoodBalanceSheets_E_Africa_NOFLAG.csv']),encoding = 'latin-1')\n",
        "print(df)\n"
      ],
      "metadata": {
        "id": "JOVsokNmEEAQ"
      },
      "execution_count": null,
      "outputs": []
    },
    {
      "cell_type": "code",
      "source": [
        "#Question 11\n",
        "sum1 = df.groupby('Item')['Y2014'].sum()\n",
        "sum2 = df.groupby('Item')['Y2017'].sum()\n",
        "print(sum1)\n",
        "print(sum2)"
      ],
      "metadata": {
        "id": "Jj9mC-vWL6LX"
      },
      "execution_count": null,
      "outputs": []
    },
    {
      "cell_type": "code",
      "source": [
        "#Question 12\n",
        "m = df['Y2015'].mean()\n",
        "s = df['Y2015'].std()\n",
        "print(\"Mean and standard deviation of the whole dataset across the year 2015 are \", m, \" and \", s, \" respectively\")"
      ],
      "metadata": {
        "id": "gteXXj6iOjjG"
      },
      "execution_count": null,
      "outputs": []
    },
    {
      "cell_type": "code",
      "source": [
        "#Question 13\n",
        "a = df['Y2016'].isnull().sum()\n",
        "print(\"Total no. of missing data in 2016: \", a)\n",
        "b = a/df['Y2016'].count()*100\n",
        "print(\"Percentage of data missing in 2016: \", b)"
      ],
      "metadata": {
        "id": "2pe5PUl3PU2b"
      },
      "execution_count": null,
      "outputs": []
    },
    {
      "cell_type": "code",
      "source": [
        "#Question 14\n",
        "print(\"The correlation of Element code with all the columns:\\n\")\n",
        "df.corr()['Element Code']"
      ],
      "metadata": {
        "id": "1pXnP9nSP9kI"
      },
      "execution_count": null,
      "outputs": []
    },
    {
      "cell_type": "code",
      "source": [
        "#Question 15 and 16\n",
        "print(\"Data frame illustrating the sum of each element across all columns:\\n\")\n",
        "df.groupby('Element').sum()"
      ],
      "metadata": {
        "id": "8qRwtei2Q4z_"
      },
      "execution_count": null,
      "outputs": []
    },
    {
      "cell_type": "code",
      "source": [
        "#Question 17 and 18\n",
        "print(\"Sum of each element in 2018:\\n\")\n",
        "df.groupby('Element')['Y2018'].sum()"
      ],
      "metadata": {
        "id": "L79lBehvWODz"
      },
      "execution_count": null,
      "outputs": []
    },
    {
      "cell_type": "code",
      "source": [
        "#Question 19\n",
        "#Could not answer due to time constraint\n",
        "pd.set_option(\"display.max_rows\", None, \"display.max_columns\", None)\n",
        "df.groupby(['Area','Element'])['Y2018'].sum()"
      ],
      "metadata": {
        "id": "podHc0WxoIsA"
      },
      "execution_count": null,
      "outputs": []
    },
    {
      "cell_type": "code",
      "source": [
        "#Question20\n",
        "#Could not answer in the quiz because of time shortage\n",
        "n = len(pd.unique(df['Area']))\n",
        "  \n",
        "print(\"No.of.unique countries :\", n)"
      ],
      "metadata": {
        "id": "sU5O7QxpUFub"
      },
      "execution_count": null,
      "outputs": []
    }
  ]
}